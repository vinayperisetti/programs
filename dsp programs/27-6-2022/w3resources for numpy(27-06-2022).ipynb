{
 "cells": [
  {
   "cell_type": "code",
   "execution_count": 7,
   "id": "7a121422",
   "metadata": {},
   "outputs": [
    {
     "name": "stdout",
     "output_type": "stream",
     "text": [
      "[1 2 3 4]\n",
      "test if none of the elements is said array to zero:\n",
      "True\n",
      "[0 1 2 3 4]\n",
      "test if none of the elements is said array to zero:\n",
      "False\n"
     ]
    }
   ],
   "source": [
    "import numpy as np\n",
    "a=np.array([1,2,3,4])\n",
    "print(a)\n",
    "print(\"test if none of the elements is said array to zero:\")\n",
    "print(np.all(a))\n",
    "b=np.array([0,1,2,3,4])\n",
    "print(b)\n",
    "print(\"test if none of the elements is said array to zero:\")\n",
    "print(np.all(b))"
   ]
  },
  {
   "cell_type": "code",
   "execution_count": 10,
   "id": "ae99ba87",
   "metadata": {},
   "outputs": [
    {
     "name": "stdout",
     "output_type": "stream",
     "text": [
      "1.20.3\n",
      "blas_mkl_info:\n",
      "    libraries = ['mkl_rt']\n",
      "    library_dirs = ['C:/Users/vinay/anaconda3\\\\Library\\\\lib']\n",
      "    define_macros = [('SCIPY_MKL_H', None), ('HAVE_CBLAS', None)]\n",
      "    include_dirs = ['C:/Users/vinay/anaconda3\\\\Library\\\\include']\n",
      "blas_opt_info:\n",
      "    libraries = ['mkl_rt']\n",
      "    library_dirs = ['C:/Users/vinay/anaconda3\\\\Library\\\\lib']\n",
      "    define_macros = [('SCIPY_MKL_H', None), ('HAVE_CBLAS', None)]\n",
      "    include_dirs = ['C:/Users/vinay/anaconda3\\\\Library\\\\include']\n",
      "lapack_mkl_info:\n",
      "    libraries = ['mkl_rt']\n",
      "    library_dirs = ['C:/Users/vinay/anaconda3\\\\Library\\\\lib']\n",
      "    define_macros = [('SCIPY_MKL_H', None), ('HAVE_CBLAS', None)]\n",
      "    include_dirs = ['C:/Users/vinay/anaconda3\\\\Library\\\\include']\n",
      "lapack_opt_info:\n",
      "    libraries = ['mkl_rt']\n",
      "    library_dirs = ['C:/Users/vinay/anaconda3\\\\Library\\\\lib']\n",
      "    define_macros = [('SCIPY_MKL_H', None), ('HAVE_CBLAS', None)]\n",
      "    include_dirs = ['C:/Users/vinay/anaconda3\\\\Library\\\\include']\n",
      "None\n",
      "add(x1, x2, /, out=None, *, where=True, casting='same_kind', order='K', dtype=None, subok=True[, signature, extobj])\n",
      "\n",
      "Add arguments element-wise.\n",
      "\n",
      "Parameters\n",
      "----------\n",
      "x1, x2 : array_like\n",
      "    The arrays to be added.\n",
      "    If ``x1.shape != x2.shape``, they must be broadcastable to a common\n",
      "    shape (which becomes the shape of the output).\n",
      "out : ndarray, None, or tuple of ndarray and None, optional\n",
      "    A location into which the result is stored. If provided, it must have\n",
      "    a shape that the inputs broadcast to. If not provided or None,\n",
      "    a freshly-allocated array is returned. A tuple (possible only as a\n",
      "    keyword argument) must have length equal to the number of outputs.\n",
      "where : array_like, optional\n",
      "    This condition is broadcast over the input. At locations where the\n",
      "    condition is True, the `out` array will be set to the ufunc result.\n",
      "    Elsewhere, the `out` array will retain its original value.\n",
      "    Note that if an uninitialized `out` array is created via the default\n",
      "    ``out=None``, locations within it where the condition is False will\n",
      "    remain uninitialized.\n",
      "**kwargs\n",
      "    For other keyword-only arguments, see the\n",
      "    :ref:`ufunc docs <ufuncs.kwargs>`.\n",
      "\n",
      "Returns\n",
      "-------\n",
      "add : ndarray or scalar\n",
      "    The sum of `x1` and `x2`, element-wise.\n",
      "    This is a scalar if both `x1` and `x2` are scalars.\n",
      "\n",
      "Notes\n",
      "-----\n",
      "Equivalent to `x1` + `x2` in terms of array broadcasting.\n",
      "\n",
      "Examples\n",
      "--------\n",
      ">>> np.add(1.0, 4.0)\n",
      "5.0\n",
      ">>> x1 = np.arange(9.0).reshape((3, 3))\n",
      ">>> x2 = np.arange(3.0)\n",
      ">>> np.add(x1, x2)\n",
      "array([[  0.,   2.,   4.],\n",
      "       [  3.,   5.,   7.],\n",
      "       [  6.,   8.,  10.]])\n",
      "\n",
      "The ``+`` operator can be used as a shorthand for ``np.add`` on ndarrays.\n",
      "\n",
      ">>> x1 = np.arange(9.0).reshape((3, 3))\n",
      ">>> x2 = np.arange(3.0)\n",
      ">>> x1 + x2\n",
      "array([[ 0.,  2.,  4.],\n",
      "       [ 3.,  5.,  7.],\n",
      "       [ 6.,  8., 10.]])\n",
      "None\n"
     ]
    }
   ],
   "source": [
    "import numpy as np\n",
    "print(np.__version__)\n",
    "print(np.show_config())\n",
    "import numpy as np\n",
    "print(np.info(np.add))"
   ]
  },
  {
   "cell_type": "code",
   "execution_count": 18,
   "id": "d1bcb5fd",
   "metadata": {},
   "outputs": [
    {
     "name": "stdout",
     "output_type": "stream",
     "text": [
      "[0 0 0 0]\n",
      "test if none of the elements is said array to non-zero:\n",
      "False\n",
      "[0 1 1 1]\n",
      "test if none of the elements is said array to zero:\n",
      "True\n"
     ]
    }
   ],
   "source": [
    "import numpy as np\n",
    "a=np.array([0,0,0,0])\n",
    "print(a)\n",
    "print(\"test if none of the elements is said array to non-zero:\")\n",
    "print(np.any(a))\n",
    "import numpy as np\n",
    "b=np.array([0,1,1,1])\n",
    "print(b)\n",
    "print(\"test if none of the elements is said array to zero:\")\n",
    "print(np.any(b))"
   ]
  },
  {
   "cell_type": "code",
   "execution_count": 1,
   "id": "044bc8cb",
   "metadata": {},
   "outputs": [
    {
     "name": "stdout",
     "output_type": "stream",
     "text": [
      "[ 0.  1.  2. inf nan]\n",
      "test a given array element wise for finiteness:\n",
      "[ True  True  True False False]\n",
      "[False False False  True False]\n",
      "[False False False False  True]\n"
     ]
    }
   ],
   "source": [
    "import numpy as np\n",
    "x=np.array([0,1,2,np.inf,np.nan])\n",
    "print(x)\n",
    "print(\"test a given array element wise for finiteness:\")\n",
    "print(np.isfinite(x))\n",
    "print(np.isinf(x))\n",
    "print(np.isnan(x))"
   ]
  },
  {
   "cell_type": "code",
   "execution_count": 23,
   "id": "3891a6ba",
   "metadata": {},
   "outputs": [
    {
     "name": "stdout",
     "output_type": "stream",
     "text": [
      "[ 0.  1.  2. inf nan]\n",
      "test a given array element wise for finiteness:\n",
      "[False False False  True False]\n"
     ]
    }
   ],
   "source": [
    "import numpy as np\n",
    "x=np.array([0,1,2,np.inf,np.nan])\n",
    "print(x)\n",
    "print(\"test a given array element wise for infiniteness:\")\n",
    "print(np.isinf(x))"
   ]
  },
  {
   "cell_type": "code",
   "execution_count": 26,
   "id": "a825f7a2",
   "metadata": {},
   "outputs": [
    {
     "name": "stdout",
     "output_type": "stream",
     "text": [
      "[ 0.  1.  2. inf nan]\n",
      "test a given array element wise for finiteness:\n",
      "[False False False False  True]\n"
     ]
    }
   ],
   "source": [
    "import numpy as np\n",
    "x=np.array([0,1,2,np.inf,np.nan])\n",
    "print(x)\n",
    "print(\"test a given array element wise for finiteness:\")\n",
    "print(np.isnan(x))"
   ]
  },
  {
   "cell_type": "code",
   "execution_count": 37,
   "id": "f600f20a",
   "metadata": {},
   "outputs": [
    {
     "name": "stdout",
     "output_type": "stream",
     "text": [
      "[0.+0.j 2.+0.j 4.+0.j 6.+0.j 7.+3.j 9.+0.j]\n",
      "[False False False False  True False]\n",
      "[ True  True  True  True False  True]\n",
      "False\n"
     ]
    }
   ],
   "source": [
    "import numpy as np\n",
    "x=np.array([0,2,4,6,7+3j,9])\n",
    "print(x)\n",
    "print(np.iscomplex(x))\n",
    "print(np.isreal(x))\n",
    "print(np.isscalar(3+x))"
   ]
  },
  {
   "cell_type": "code",
   "execution_count": 1,
   "id": "30203422",
   "metadata": {},
   "outputs": [
    {
     "name": "stdout",
     "output_type": "stream",
     "text": [
      "Test if two arrays are element-wise equal within a tolerance:\n",
      "False\n",
      "True\n",
      "False\n",
      "False\n",
      "True\n"
     ]
    }
   ],
   "source": [
    "#Write a NumPy program to test whether two arrays are element-wise equal within a tolerance.\n",
    "import numpy as np\n",
    "print(\"Test if two arrays are element-wise equal within a tolerance:\")\n",
    "print(np.allclose([1e10,1e-7], [1.00001e10,1e-8]))\n",
    "print(np.allclose([1e10,1e-8], [1.00001e10,1e-9]))\n",
    "print(np.allclose([1e10,1e-8], [1.0001e10,1e-9]))\n",
    "print(np.allclose([1.0, np.nan], [1.0, np.nan]))\n",
    "print(np.allclose([1.0, np.nan], [1.0, np.nan], equal_nan=True))\n"
   ]
  },
  {
   "cell_type": "code",
   "execution_count": 4,
   "id": "c39ca63b",
   "metadata": {},
   "outputs": [
    {
     "name": "stdout",
     "output_type": "stream",
     "text": [
      "[1 3]\n",
      "[4 2]\n",
      "[False  True]\n",
      "[False  True]\n",
      "[ True False]\n",
      "[ True False]\n"
     ]
    }
   ],
   "source": [
    "#Write a NumPy program to create an element-wise comparison (greater, greater_equal, less and less_equal) of two given arrays.\n",
    "import numpy as np\n",
    "x = np.array([1,3])\n",
    "y = np.array([4,2])\n",
    "print(x)\n",
    "print(y)\n",
    "print(np.greater(x,y))\n",
    "print(np.greater_equal(x,y))\n",
    "print(np.less(x,y))\n",
    "print(np.less_equal(x,y))"
   ]
  },
  {
   "cell_type": "code",
   "execution_count": 8,
   "id": "44dc0cd6",
   "metadata": {},
   "outputs": [
    {
     "name": "stdout",
     "output_type": "stream",
     "text": [
      "[ 0 12 -5 86  2]\n",
      "[  86 3526   55  -33    2]\n",
      "[False False False False  True]\n",
      "False\n"
     ]
    }
   ],
   "source": [
    "#Write a NumPy program to create an element-wise comparison (equal, equal within a tolerance) of two given arrays\n",
    "import numpy as np\n",
    "x = np.array([0,12,-5,86,2])\n",
    "y = np.array([86,3526,55,-33,2])\n",
    "print(x)\n",
    "print(y)\n",
    "print(np.equal(x,y))\n",
    "print(np.allclose(x,y))"
   ]
  },
  {
   "cell_type": "code",
   "execution_count": 2,
   "id": "88661991",
   "metadata": {},
   "outputs": [
    {
     "name": "stdout",
     "output_type": "stream",
     "text": [
      "[  1   7  13 105]\n",
      "size of the array\n",
      "4 bytes\n"
     ]
    }
   ],
   "source": [
    "import numpy as np\n",
    "x = np.array([1,7,13,105])\n",
    "print(x)\n",
    "print(\"size of the array\")\n",
    "print(\"%d bytes\"%(x.itemsize))"
   ]
  },
  {
   "cell_type": "code",
   "execution_count": 2,
   "id": "9179b356",
   "metadata": {},
   "outputs": [
    {
     "name": "stdout",
     "output_type": "stream",
     "text": [
      "[0. 0. 0. 0. 0. 0. 0. 0. 0. 0.]\n",
      "[1. 1. 1. 1. 1. 1. 1. 1. 1. 1.]\n",
      "[5. 5. 5. 5. 5. 5. 5. 5. 5. 5.]\n"
     ]
    }
   ],
   "source": [
    "import numpy as np\n",
    "array=np.zeros(10)\n",
    "print(array)\n",
    "array=np.ones(10)*1\n",
    "print(array)\n",
    "array=np.ones(10)*5\n",
    "print(array)"
   ]
  },
  {
   "cell_type": "code",
   "execution_count": 6,
   "id": "62641179",
   "metadata": {},
   "outputs": [
    {
     "name": "stdout",
     "output_type": "stream",
     "text": [
      "arrrangement of the integers:\n",
      "[30 31 32 33 34 35 36 37 38 39 40 41 42 43 44 45 46 47 48 49 50 51 52 53\n",
      " 54 55 56 57 58 59 60 61 62 63 64 65 66 67 68 69 70]\n"
     ]
    }
   ],
   "source": [
    "import numpy as np\n",
    "array=np.arange(30,71)\n",
    "print(\"arrrangement of the integers:\")\n",
    "print(array)"
   ]
  },
  {
   "cell_type": "code",
   "execution_count": 9,
   "id": "6383dda5",
   "metadata": {},
   "outputs": [
    {
     "name": "stdout",
     "output_type": "stream",
     "text": [
      "arrangement of the even positive integers:\n",
      "[30 43 56 69]\n"
     ]
    }
   ],
   "source": [
    "import numpy as np\n",
    "array=np.arange(30,71,13)\n",
    "print(\"arrangement of the even positive integers:\")\n",
    "print(array)"
   ]
  },
  {
   "cell_type": "code",
   "execution_count": 10,
   "id": "a0362366",
   "metadata": {},
   "outputs": [
    {
     "name": "stdout",
     "output_type": "stream",
     "text": [
      "3x3 matrix:\n",
      "[[1. 0. 0.]\n",
      " [0. 1. 0.]\n",
      " [0. 0. 1.]]\n"
     ]
    }
   ],
   "source": [
    "#identity matrix\n",
    "import numpy as np\n",
    "array_2D=np.identity(3)\n",
    "print(\"3x3 matrix:\")\n",
    "print(array_2D)"
   ]
  },
  {
   "cell_type": "code",
   "execution_count": 13,
   "id": "627c35a2",
   "metadata": {},
   "outputs": [
    {
     "name": "stdout",
     "output_type": "stream",
     "text": [
      "print number between 0 and 1:\n",
      "6.808687286371068\n"
     ]
    }
   ],
   "source": [
    "import numpy as np\n",
    "rand_num=np.random.normal(0,1,1)\n",
    "print(\"print number between 0 and 1:\")\n",
    "print(rand_num)"
   ]
  },
  {
   "cell_type": "code",
   "execution_count": 15,
   "id": "2f8b9fbc",
   "metadata": {},
   "outputs": [
    {
     "name": "stdout",
     "output_type": "stream",
     "text": [
      "random numbers:\n",
      "[ 0.51526074  0.74587644 -1.62548846  0.01238571 -1.61105549  0.44598299\n",
      "  0.30866472  0.74504301  1.42130311 -1.88930148 -0.33494654  0.6529943\n",
      " -0.47504261  0.03461138  1.0849316 ]\n"
     ]
    }
   ],
   "source": [
    "import numpy as np\n",
    "rand_num=np.random.normal(0,1,15)\n",
    "print(\"random numbers:\")\n",
    "print(rand_num)"
   ]
  },
  {
   "cell_type": "code",
   "execution_count": 17,
   "id": "2ec15de5",
   "metadata": {},
   "outputs": [
    {
     "name": "stdout",
     "output_type": "stream",
     "text": [
      "[15 16 17 18 19 20 21 22 23 24 25 26 27 28 29 30 31 32 33 34 35 36 37 38\n",
      " 39 40 41 42 43 44 45 46 47 48 49 50 51 52 53 54]\n",
      "except first and last:\n",
      "[16 17 18 19 20 21 22 23 24 25 26 27 28 29 30 31 32 33 34 35 36 37 38 39\n",
      " 40 41 42 43 44 45 46 47 48 49 50 51 52 53]\n"
     ]
    }
   ],
   "source": [
    "import numpy as np\n",
    "v=np.arange(15,55)\n",
    "print(v)\n",
    "print(\"except first and last:\")\n",
    "print(v[1:-1])"
   ]
  },
  {
   "cell_type": "code",
   "execution_count": 21,
   "id": "0d59f543",
   "metadata": {},
   "outputs": [
    {
     "ename": "SyntaxError",
     "evalue": "invalid syntax (Temp/ipykernel_404/2256383353.py, line 2)",
     "output_type": "error",
     "traceback": [
      "\u001b[1;36m  File \u001b[1;32m\"C:\\Users\\vinay\\AppData\\Local\\Temp/ipykernel_404/2256383353.py\"\u001b[1;36m, line \u001b[1;32m2\u001b[0m\n\u001b[1;33m    a=np.arange(10,22).reshape((3x4))\u001b[0m\n\u001b[1;37m                                 ^\u001b[0m\n\u001b[1;31mSyntaxError\u001b[0m\u001b[1;31m:\u001b[0m invalid syntax\n"
     ]
    }
   ],
   "source": [
    "import numpy as np\n",
    "a=np.arange(10,22).reshape((3x4))\n",
    "print(a)\n",
    "print(\"each element of the array:\")\n",
    "for x in np.nditer(a):\n",
    "    print(x,end=\"\")\n"
   ]
  },
  {
   "cell_type": "code",
   "execution_count": null,
   "id": "45883206",
   "metadata": {},
   "outputs": [],
   "source": []
  }
 ],
 "metadata": {
  "kernelspec": {
   "display_name": "Python 3 (ipykernel)",
   "language": "python",
   "name": "python3"
  },
  "language_info": {
   "codemirror_mode": {
    "name": "ipython",
    "version": 3
   },
   "file_extension": ".py",
   "mimetype": "text/x-python",
   "name": "python",
   "nbconvert_exporter": "python",
   "pygments_lexer": "ipython3",
   "version": "3.9.7"
  }
 },
 "nbformat": 4,
 "nbformat_minor": 5
}
