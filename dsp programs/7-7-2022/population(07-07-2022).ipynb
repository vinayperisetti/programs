{
 "cells": [
  {
   "cell_type": "code",
   "execution_count": 6,
   "id": "cab5f5bb",
   "metadata": {},
   "outputs": [
    {
     "data": {
      "text/plain": [
       "count     8.000000\n",
       "mean     10.625000\n",
       "std      18.023298\n",
       "min       1.000000\n",
       "25%       3.750000\n",
       "50%       4.500000\n",
       "75%       6.250000\n",
       "max      55.000000\n",
       "dtype: float64"
      ]
     },
     "execution_count": 6,
     "metadata": {},
     "output_type": "execute_result"
    }
   ],
   "source": [
    "import pandas as pd\n",
    "a=pd.Series([1,4,6,3,7,55,5,4,3])\n",
    "a.describe()"
   ]
  },
  {
   "cell_type": "code",
   "execution_count": 13,
   "id": "338727ca",
   "metadata": {},
   "outputs": [
    {
     "name": "stdout",
     "output_type": "stream",
     "text": [
      "2.3741027013091993\n"
     ]
    }
   ],
   "source": [
    "import numpy \n",
    "a=[1,2,3,4,5,6,7,8,9,6,4]\n",
    "b=numpy.std(a)\n",
    "print(b)"
   ]
  },
  {
   "cell_type": "code",
   "execution_count": 10,
   "id": "3fbec297",
   "metadata": {},
   "outputs": [
    {
     "name": "stdout",
     "output_type": "stream",
     "text": [
      "677490.5833333334\n"
     ]
    }
   ],
   "source": [
    "import numpy\n",
    "a=[123,67,987,2345,222,123]\n",
    "b=numpy.var(a)\n",
    "print(b)"
   ]
  },
  {
   "cell_type": "code",
   "execution_count": 19,
   "id": "f4186296",
   "metadata": {},
   "outputs": [
    {
     "name": "stdout",
     "output_type": "stream",
     "text": [
      "23.6024657374794\n"
     ]
    }
   ],
   "source": [
    "import numpy \n",
    "a=[1,2,3,4,5,6,7,8,9,6,4,90]\n",
    "b=numpy.std(a)\n",
    "print(b)"
   ]
  },
  {
   "cell_type": "code",
   "execution_count": 22,
   "id": "7ebc5b86",
   "metadata": {},
   "outputs": [
    {
     "name": "stdout",
     "output_type": "stream",
     "text": [
      "5.636363636363637\n"
     ]
    }
   ],
   "source": [
    "import numpy \n",
    "a=[1,2,3,4,5,6,7,8,9,6,4]\n",
    "b=numpy.var(a)\n",
    "print(b)"
   ]
  },
  {
   "cell_type": "code",
   "execution_count": 23,
   "id": "a6d44b8c",
   "metadata": {},
   "outputs": [
    {
     "name": "stdout",
     "output_type": "stream",
     "text": [
      "125.0\n",
      "11.180339887498949\n",
      "35.0\n"
     ]
    }
   ],
   "source": [
    "import numpy \n",
    "a=[20,30,40,50]\n",
    "b=numpy.var(a)\n",
    "print(b)\n",
    "b=numpy.std(a)\n",
    "print(b)\n",
    "b=numpy.mean(a)\n",
    "print(b)"
   ]
  },
  {
   "cell_type": "code",
   "execution_count": null,
   "id": "404ec0de",
   "metadata": {},
   "outputs": [],
   "source": []
  }
 ],
 "metadata": {
  "kernelspec": {
   "display_name": "Python 3 (ipykernel)",
   "language": "python",
   "name": "python3"
  },
  "language_info": {
   "codemirror_mode": {
    "name": "ipython",
    "version": 3
   },
   "file_extension": ".py",
   "mimetype": "text/x-python",
   "name": "python",
   "nbconvert_exporter": "python",
   "pygments_lexer": "ipython3",
   "version": "3.9.7"
  }
 },
 "nbformat": 4,
 "nbformat_minor": 5
}
