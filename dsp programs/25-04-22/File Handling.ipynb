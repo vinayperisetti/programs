{
 "cells": [
  {
   "cell_type": "markdown",
   "metadata": {},
   "source": [
    "<h1 style=\"text-align:center;\"> File Handling</h1>"
   ]
  },
  {
   "cell_type": "markdown",
   "metadata": {},
   "source": [
    "### Creating a file"
   ]
  },
  {
   "cell_type": "code",
   "execution_count": 1,
   "metadata": {},
   "outputs": [
    {
     "name": "stdout",
     "output_type": "stream",
     "text": [
      "File created\n",
      "End of the File\n"
     ]
    }
   ],
   "source": [
    "file_obj=open(\"f1.txt\",\"w\")\n",
    "print(\"File created\")\n",
    "file_obj.close()\n",
    "print(\"End of the File\")"
   ]
  },
  {
   "cell_type": "markdown",
   "metadata": {},
   "source": [
    "### Writing files"
   ]
  },
  {
   "cell_type": "code",
   "execution_count": 2,
   "metadata": {},
   "outputs": [
    {
     "name": "stdout",
     "output_type": "stream",
     "text": [
      "Content written in the file\n",
      "End of the File\n"
     ]
    }
   ],
   "source": [
    "file_obj=open(\"f1.txt\",\"w\")\n",
    "file_obj.write(\"Hello.....World!\")\n",
    "print(\"Content written in the file\")\n",
    "file_obj.close()\n",
    "print(\"End of the File\")"
   ]
  },
  {
   "cell_type": "markdown",
   "metadata": {},
   "source": [
    "### Writelines"
   ]
  },
  {
   "cell_type": "code",
   "execution_count": 3,
   "metadata": {},
   "outputs": [
    {
     "name": "stdout",
     "output_type": "stream",
     "text": [
      "Content written in the file\n",
      "End of the File\n"
     ]
    }
   ],
   "source": [
    "file_obj=open(\"f1.txt\",\"a\")\n",
    "file_obj.writelines(\"\\nWelcome to CSE!\\nGlad to welcome you\")\n",
    "print(\"Content written in the file\")\n",
    "file_obj.close()\n",
    "print(\"End of the File\")"
   ]
  },
  {
   "cell_type": "markdown",
   "metadata": {},
   "source": [
    "### Append files"
   ]
  },
  {
   "cell_type": "code",
   "execution_count": 4,
   "metadata": {},
   "outputs": [
    {
     "name": "stdout",
     "output_type": "stream",
     "text": [
      "Text appended in the file\n",
      "End of the file\n"
     ]
    }
   ],
   "source": [
    "file_obj=open(\"f1.txt\",\"a\")\n",
    "file_obj.write(\"\\nMy name is Hymavathi\")\n",
    "print(\"Text appended in the file\")\n",
    "file_obj.close()\n",
    "print(\"End of the file\")"
   ]
  },
  {
   "cell_type": "markdown",
   "metadata": {},
   "source": [
    "### Reading files"
   ]
  },
  {
   "cell_type": "code",
   "execution_count": 5,
   "metadata": {},
   "outputs": [
    {
     "name": "stdout",
     "output_type": "stream",
     "text": [
      "Hello.....World!\n",
      "Welcome to CSE!\n",
      "Glad to welcome you\n",
      "My name is Hymavathi\n",
      "content readed from the file\n",
      "End of the file\n"
     ]
    }
   ],
   "source": [
    "file_obj=open(\"f1.txt\",\"r\")\n",
    "text=file_obj.read()\n",
    "print(text)\n",
    "print(\"content readed from the file\")\n",
    "file_obj.close()\n",
    "print(\"End of the file\")"
   ]
  },
  {
   "cell_type": "markdown",
   "metadata": {},
   "source": [
    "### Readlines from files"
   ]
  },
  {
   "cell_type": "code",
   "execution_count": 6,
   "metadata": {},
   "outputs": [
    {
     "name": "stdout",
     "output_type": "stream",
     "text": [
      "['Hello.....World!\\n', 'Welcome to CSE!\\n', 'Glad to welcome you\\n', 'My name is Hymavathi']\n",
      "content readed from the file\n",
      "End of the file\n"
     ]
    }
   ],
   "source": [
    "file_obj=open(\"f1.txt\",\"r\")\n",
    "text=file_obj.readlines()\n",
    "print(text)\n",
    "print(\"content readed from the file\")\n",
    "file_obj.close()\n",
    "print(\"End of the file\")"
   ]
  },
  {
   "cell_type": "markdown",
   "metadata": {},
   "source": [
    "### Read some bytes of Data"
   ]
  },
  {
   "cell_type": "code",
   "execution_count": 7,
   "metadata": {},
   "outputs": [
    {
     "name": "stdout",
     "output_type": "stream",
     "text": [
      "Hello\n",
      "content readed from the file\n",
      "End of the file\n"
     ]
    }
   ],
   "source": [
    "file_obj=open(\"f1.txt\",\"r\")\n",
    "text=file_obj.read(5)\n",
    "print(text)\n",
    "print(\"content readed from the file\")\n",
    "file_obj.close()\n",
    "print(\"End of the file\")"
   ]
  },
  {
   "cell_type": "markdown",
   "metadata": {},
   "source": [
    "### Swapping Two files"
   ]
  },
  {
   "cell_type": "code",
   "execution_count": 1,
   "metadata": {},
   "outputs": [
    {
     "name": "stdout",
     "output_type": "stream",
     "text": [
      "content inserted successfully\n"
     ]
    }
   ],
   "source": [
    "f1=open(\"f1.txt\",\"w\")\n",
    "f1.write(\"abc\")\n",
    "f2=open(\"f2.txt\",\"w\")\n",
    "f2.write(\"123\")\n",
    "print(\"content inserted successfully\")\n",
    "f1.close()\n",
    "f2.close()"
   ]
  },
  {
   "cell_type": "code",
   "execution_count": 3,
   "metadata": {},
   "outputs": [
    {
     "name": "stdout",
     "output_type": "stream",
     "text": [
      "abc\n",
      "123\n"
     ]
    }
   ],
   "source": [
    "# Swapping\n",
    "f1=open(\"f1.txt\",\"r\")\n",
    "x=f1.read()\n",
    "f1.close()\n",
    "f1=open(\"f1.txt\",\"w\")\n",
    "f2=open(\"f2.txt\",\"r\")\n",
    "f1.write(f2.read())\n",
    "f1.close()\n",
    "f2.close()\n",
    "f2=open(\"f2.txt\",\"w\")\n",
    "f2.write(x)\n",
    "f2.close()\n",
    "f1=open(\"f1.txt\",\"r\")\n",
    "f2=open(\"f2.txt\",\"r\")\n",
    "print(f1.read())\n",
    "print(f2.read())\n",
    "f1.close()\n",
    "f2.close()"
   ]
  },
  {
   "cell_type": "code",
   "execution_count": null,
   "metadata": {},
   "outputs": [],
   "source": []
  }
 ],
 "metadata": {
  "kernelspec": {
   "display_name": "Python 3",
   "language": "python",
   "name": "python3"
  },
  "language_info": {
   "codemirror_mode": {
    "name": "ipython",
    "version": 3
   },
   "file_extension": ".py",
   "mimetype": "text/x-python",
   "name": "python",
   "nbconvert_exporter": "python",
   "pygments_lexer": "ipython3",
   "version": "3.7.3"
  }
 },
 "nbformat": 4,
 "nbformat_minor": 2
}
